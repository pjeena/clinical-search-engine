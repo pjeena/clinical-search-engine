{
 "cells": [
  {
   "cell_type": "code",
   "execution_count": null,
   "metadata": {},
   "outputs": [],
   "source": [
    "from utils import read_data"
   ]
  },
  {
   "cell_type": "code",
   "execution_count": null,
   "metadata": {},
   "outputs": [],
   "source": [
    "df = read_data('/Users/piyush/Desktop/dsml_Portfolio/clinical_traits/final_project/input/Dimension-covid.csv')"
   ]
  },
  {
   "cell_type": "code",
   "execution_count": null,
   "metadata": {},
   "outputs": [],
   "source": [
    "df.shape"
   ]
  },
  {
   "cell_type": "code",
   "execution_count": null,
   "metadata": {},
   "outputs": [],
   "source": [
    "from preprocessing import output_text\n",
    "abstract_preprocessed  = output_text(df,\"Abstract\")"
   ]
  },
  {
   "cell_type": "code",
   "execution_count": null,
   "metadata": {},
   "outputs": [],
   "source": [
    "from training import ModelTrain\n",
    "model = ModelTrain(df,'Abstract', vector_size = 100,window_size=2)"
   ]
  },
  {
   "cell_type": "code",
   "execution_count": null,
   "metadata": {},
   "outputs": [],
   "source": [
    "skipgram = model.fit()"
   ]
  },
  {
   "cell_type": "code",
   "execution_count": null,
   "metadata": {},
   "outputs": [],
   "source": [
    "from gensim.models import Word2Vec\n",
    "skipgram = Word2Vec.load('/Users/piyush/Desktop/dsml_Portfolio/clinical_traits/final_project/output/model_Skipgram.bin')\n"
   ]
  },
  {
   "cell_type": "code",
   "execution_count": null,
   "metadata": {},
   "outputs": [],
   "source": [
    "from embeddings import return_embed\n",
    "K1_abstract = return_embed(skipgram,df,\"Abstract\")"
   ]
  },
  {
   "cell_type": "code",
   "execution_count": null,
   "metadata": {},
   "outputs": [],
   "source": [
    "import numpy as np\n",
    "np.array(K1_abstract).shape"
   ]
  },
  {
   "cell_type": "code",
   "execution_count": null,
   "metadata": {},
   "outputs": [],
   "source": [
    "import pandas as pd\n",
    "K1_abstract_pp = pd.DataFrame(K1_abstract).transpose()    "
   ]
  },
  {
   "cell_type": "code",
   "execution_count": null,
   "metadata": {},
   "outputs": [],
   "source": [
    "K1_abstract_pp.shape"
   ]
  },
  {
   "cell_type": "code",
   "execution_count": null,
   "metadata": {},
   "outputs": [],
   "source": [
    "K1_abstract.to_csv('/Users/piyush/Desktop/dsml_Portfolio/clinical_traits/final_project/output/skipgram-vec-abstract.csv')\n"
   ]
  },
  {
   "cell_type": "code",
   "execution_count": null,
   "metadata": {},
   "outputs": [],
   "source": [
    "K1_title = return_embed(skipgram,df,\"Title\")\n",
    "K1_title = pd.DataFrame(K1_title).transpose()  \n",
    "K1_title.to_csv('/Users/piyush/Desktop/dsml_Portfolio/clinical_traits/final_project/output/skipgram-vec-title.csv')"
   ]
  },
  {
   "cell_type": "code",
   "execution_count": null,
   "metadata": {},
   "outputs": [],
   "source": [
    "K = read_data('/Users/piyush/Desktop/dsml_Portfolio/clinical_traits/final_project/output/skipgram-vec-abstract.csv')   \n"
   ]
  },
  {
   "cell_type": "code",
   "execution_count": null,
   "metadata": {},
   "outputs": [],
   "source": [
    "K"
   ]
  },
  {
   "cell_type": "code",
   "execution_count": null,
   "metadata": {},
   "outputs": [],
   "source": [
    "K1_abstract_pp.shape"
   ]
  },
  {
   "cell_type": "code",
   "execution_count": null,
   "metadata": {},
   "outputs": [],
   "source": [
    "K[str(0)].values"
   ]
  },
  {
   "cell_type": "code",
   "execution_count": null,
   "metadata": {},
   "outputs": [],
   "source": [
    "K = read_data('/Users/piyush/Desktop/dsml_Portfolio/clinical_traits/final_project/output/skipgram-vec-abstract.csv')   \n"
   ]
  },
  {
   "cell_type": "code",
   "execution_count": null,
   "metadata": {},
   "outputs": [],
   "source": [
    "K.shape"
   ]
  },
  {
   "cell_type": "code",
   "execution_count": null,
   "metadata": {},
   "outputs": [],
   "source": [
    "K1_abstract_pp[str(0)]"
   ]
  },
  {
   "cell_type": "code",
   "execution_count": null,
   "metadata": {},
   "outputs": [],
   "source": [
    "skipgram_vectors=[]                          #transforming dataframe into required array like structure as we did in above step\n",
    "for i in range(df.shape[0]):\n",
    "    skipgram_vectors.append(K[str(i)].values)"
   ]
  },
  {
   "cell_type": "code",
   "execution_count": null,
   "metadata": {},
   "outputs": [],
   "source": []
  },
  {
   "cell_type": "code",
   "execution_count": null,
   "metadata": {},
   "outputs": [],
   "source": [
    "K1_abstract = pd.DataFrame(K1_abstract).transpose()    # Saving vectors of each abstract in data frame so that we can use directly while running code again\n",
    "K1_abstract.to_csv('/Users/piyush/Desktop/dsml_Portfolio/clinical_traits/final_project/output/skipgram-vec-abstract.csv')"
   ]
  },
  {
   "cell_type": "code",
   "execution_count": null,
   "metadata": {},
   "outputs": [],
   "source": [
    "K1_abstract.shape"
   ]
  },
  {
   "cell_type": "code",
   "execution_count": null,
   "metadata": {},
   "outputs": [],
   "source": []
  },
  {
   "cell_type": "code",
   "execution_count": null,
   "metadata": {},
   "outputs": [],
   "source": [
    "K = read_data('/Users/piyush/Desktop/dsml_Portfolio/clinical_traits/final_project/output/skipgram-vec-abstract.csv')   \n"
   ]
  },
  {
   "cell_type": "code",
   "execution_count": null,
   "metadata": {},
   "outputs": [],
   "source": [
    "K.shape"
   ]
  },
  {
   "cell_type": "code",
   "execution_count": null,
   "metadata": {},
   "outputs": [],
   "source": [
    "K[str(0)].shape"
   ]
  },
  {
   "cell_type": "code",
   "execution_count": null,
   "metadata": {},
   "outputs": [],
   "source": [
    "K = read_data('/Users/piyush/Desktop/dsml_Portfolio/clinical_traits/final_project/output/skipgram-vec-abstract.csv')   \n",
    "skipgram_vectors=[]                          #transforming dataframe into required array like structure as we did in above step\n",
    "for i in range(df.shape[0]):\n",
    "    skipgram_vectors.append(K[str(i)].values)\n"
   ]
  },
  {
   "cell_type": "code",
   "execution_count": null,
   "metadata": {},
   "outputs": [],
   "source": [
    "from top_n_searches import TopNrecommendations\n",
    "query = 'lung'\n",
    "model_name = 'Skipgram'\n",
    "num_of_results = 5\n",
    "top = TopNrecommendations(query,model_name,num_of_results)\n",
    "#Results = top.get_top_n_results()\n"
   ]
  },
  {
   "cell_type": "code",
   "execution_count": null,
   "metadata": {},
   "outputs": [],
   "source": [
    "top.get_top_n_results()"
   ]
  },
  {
   "cell_type": "code",
   "execution_count": null,
   "metadata": {},
   "outputs": [],
   "source": [
    "df = read_data(\"/Users/piyush/Desktop/dsml_Portfolio/clinical_traits/final_project/input/dimensions-covid19-export-2021-09-01-h15-01-02_clinical_trials.csv\")"
   ]
  },
  {
   "cell_type": "code",
   "execution_count": null,
   "metadata": {},
   "outputs": [],
   "source": [
    "word2vec_model = Word2Vec.load('/Users/piyush/Desktop/dsml_Portfolio/clinical_traits/final_project/output/model_Skipgram.bin')\n",
    "K=pd.read_csv('/Users/piyush/Desktop/dsml_Portfolio/clinical_traits/final_project/output/skipgram-vec-abstract.csv')"
   ]
  },
  {
   "cell_type": "code",
   "execution_count": null,
   "metadata": {},
   "outputs": [],
   "source": [
    "query = df['Abstract'][89]"
   ]
  },
  {
   "cell_type": "code",
   "execution_count": null,
   "metadata": {},
   "outputs": [],
   "source": [
    "query"
   ]
  },
  {
   "cell_type": "code",
   "execution_count": null,
   "metadata": {},
   "outputs": [],
   "source": [
    "from preprocessing import preprocessing_input\n",
    "input_query = preprocessing_input(query)"
   ]
  },
  {
   "cell_type": "code",
   "execution_count": null,
   "metadata": {},
   "outputs": [],
   "source": [
    "input_query_vector=get_mean_vector(word2vec_model,input_query)"
   ]
  },
  {
   "cell_type": "code",
   "execution_count": null,
   "metadata": {},
   "outputs": [],
   "source": [
    "from embeddings import get_mean_vector"
   ]
  },
  {
   "cell_type": "code",
   "execution_count": null,
   "metadata": {},
   "outputs": [],
   "source": [
    "input_query_vector.shape"
   ]
  },
  {
   "cell_type": "code",
   "execution_count": null,
   "metadata": {},
   "outputs": [],
   "source": [
    "K.shape"
   ]
  },
  {
   "cell_type": "code",
   "execution_count": null,
   "metadata": {},
   "outputs": [],
   "source": [
    "word2vec_model = Word2Vec.load('/Users/piyush/Desktop/dsml_Portfolio/clinical_traits/final_project/output/model_Skipgram.bin')\n",
    "K=pd.read_csv('/Users/piyush/Desktop/dsml_Portfolio/clinical_traits/final_project/output/skipgram-vec-abstract.csv')"
   ]
  },
  {
   "cell_type": "code",
   "execution_count": null,
   "metadata": {},
   "outputs": [],
   "source": [
    "K.shape"
   ]
  },
  {
   "cell_type": "code",
   "execution_count": null,
   "metadata": {},
   "outputs": [],
   "source": []
  },
  {
   "cell_type": "code",
   "execution_count": null,
   "metadata": {},
   "outputs": [],
   "source": [
    "p=[]                          #transforming dataframe into required array like structure as we did in above step\n",
    "for i in range(df.shape[0]):\n",
    "            p.append(K[str(i)].values) "
   ]
  },
  {
   "cell_type": "code",
   "execution_count": null,
   "metadata": {},
   "outputs": [],
   "source": [
    "K = read_data('/Users/piyush/Desktop/dsml_Portfolio/clinical_traits/final_project/output/skipgram-vec-abstract.csv')   \n",
    "skipgram_vectors=[]                          #transforming dataframe into required array like structure as we did in above step\n",
    "for i in range(df.shape[0]):\n",
    "    skipgram_vectors.append(K[str(i)].values)"
   ]
  },
  {
   "cell_type": "code",
   "execution_count": null,
   "metadata": {},
   "outputs": [],
   "source": [
    "df.shape[0]"
   ]
  },
  {
   "cell_type": "code",
   "execution_count": null,
   "metadata": {},
   "outputs": [],
   "source": [
    "K[str(12)]"
   ]
  },
  {
   "cell_type": "code",
   "execution_count": null,
   "metadata": {},
   "outputs": [],
   "source": [
    "K.shape"
   ]
  },
  {
   "cell_type": "code",
   "execution_count": null,
   "metadata": {},
   "outputs": [],
   "source": [
    "df = read_data(\"/Users/piyush/Desktop/dsml_Portfolio/clinical_traits/final_project/input/Dimension-covid.csv\")"
   ]
  },
  {
   "cell_type": "code",
   "execution_count": null,
   "metadata": {},
   "outputs": [],
   "source": [
    "word2vec_model = Word2Vec.load('/Users/piyush/Desktop/dsml_Portfolio/clinical_traits/final_project/output/model_Skipgram.bin')\n",
    "K=pd.read_csv('/Users/piyush/Desktop/dsml_Portfolio/clinical_traits/final_project/output/skipgram-vec-abstract.csv')"
   ]
  },
  {
   "cell_type": "code",
   "execution_count": null,
   "metadata": {},
   "outputs": [],
   "source": [
    "query"
   ]
  },
  {
   "cell_type": "code",
   "execution_count": null,
   "metadata": {},
   "outputs": [],
   "source": [
    "input_query = preprocessing_input(query)\n",
    "    \n",
    "input_query_vector=get_mean_vector(word2vec_model,input_query)"
   ]
  },
  {
   "cell_type": "code",
   "execution_count": null,
   "metadata": {},
   "outputs": [],
   "source": [
    "        p=[]                          #transforming dataframe into required array like structure as we did in above step\n",
    "        for i in range(df.shape[0]):\n",
    "            p.append(K[str(i)].values)   "
   ]
  },
  {
   "cell_type": "code",
   "execution_count": null,
   "metadata": {},
   "outputs": [],
   "source": [
    "p"
   ]
  },
  {
   "cell_type": "code",
   "execution_count": null,
   "metadata": {},
   "outputs": [],
   "source": [
    "x=[]        #Converting cosine similarities of overall data set with input queries into LIST\n",
    "for i in range(len(p)):\n",
    "            x.append(cosine_similarity(input_query_vector.reshape(1, -1),p[i].reshape(1, -1)))"
   ]
  },
  {
   "cell_type": "code",
   "execution_count": null,
   "metadata": {},
   "outputs": [],
   "source": [
    "from sklearn.metrics.pairwise import cosine_similarity\n"
   ]
  },
  {
   "cell_type": "code",
   "execution_count": null,
   "metadata": {},
   "outputs": [],
   "source": [
    "len(x)"
   ]
  },
  {
   "cell_type": "code",
   "execution_count": null,
   "metadata": {},
   "outputs": [],
   "source": [
    "#x"
   ]
  },
  {
   "cell_type": "code",
   "execution_count": null,
   "metadata": {},
   "outputs": [],
   "source": [
    "np.array(x).shape"
   ]
  },
  {
   "cell_type": "code",
   "execution_count": null,
   "metadata": {},
   "outputs": [],
   "source": [
    "np.array(x).flatten()"
   ]
  },
  {
   "cell_type": "code",
   "execution_count": null,
   "metadata": {},
   "outputs": [],
   "source": [
    "index_top_n = np.argsort(np.array(x).flatten())"
   ]
  },
  {
   "cell_type": "code",
   "execution_count": null,
   "metadata": {},
   "outputs": [],
   "source": [
    "index_top_n\n"
   ]
  },
  {
   "cell_type": "code",
   "execution_count": null,
   "metadata": {},
   "outputs": [],
   "source": []
  },
  {
   "cell_type": "code",
   "execution_count": null,
   "metadata": {},
   "outputs": [],
   "source": []
  },
  {
   "cell_type": "code",
   "execution_count": null,
   "metadata": {},
   "outputs": [],
   "source": [
    "#index_top_n = np.argsort(np.array(x).flatten())\n",
    "index_top_n = np.flip(np.argsort(np.array(x).flatten()))[0:num_of_results]\n",
    "sim_scores = np.array(x).flatten()[index_top_n]"
   ]
  },
  {
   "cell_type": "code",
   "execution_count": null,
   "metadata": {},
   "outputs": [],
   "source": [
    "index_top_n"
   ]
  },
  {
   "cell_type": "code",
   "execution_count": null,
   "metadata": {},
   "outputs": [],
   "source": [
    "sim_scores.max()"
   ]
  },
  {
   "cell_type": "code",
   "execution_count": null,
   "metadata": {},
   "outputs": [],
   "source": [
    "sim_scores"
   ]
  },
  {
   "cell_type": "code",
   "execution_count": null,
   "metadata": {},
   "outputs": [],
   "source": [
    "df = read_data(\"/Users/piyush/Desktop/dsml_Portfolio/clinical_traits/final_project/input/Dimension-covid.csv\")\n",
    "df1 = read_data(\"/Users/piyush/Desktop/dsml_Portfolio/clinical_traits/final_project/input/Dimension-covid.csv\")  \n",
    "\n",
    "### Pre-processing the data  ###\n",
    "abstract_preprocessed  = output_text(df,\"Abstract\")\n",
    "\n",
    "### Train the Skipgram and FastText models ###\n",
    "model = ModelTrain(df,'Abstract', vector_size = 100,window_size=2)\n",
    "skipgram = model.fit()\n",
    "#fasttext = model_train(df,\"Abstract\",\"Fasttext\",vector_size=100, window_size = 2)\n",
    "\n",
    "### Loading our pretrained model ###\n",
    "skipgram = Word2Vec.load('/Users/piyush/Desktop/dsml_Portfolio/clinical_traits/final_project/output/model_Skipgram.bin')\n",
    "#FastText = Word2Vec.load('../output/model_Fasttext.bin')\n",
    "\n",
    "### convert to columns vectors using skipgram ###\n",
    "K1_abstract = return_embed(skipgram,df,\"Abstract\")\n",
    "K1_abstract = pd.DataFrame(K1_abstract).transpose()    # Saving vectors of each abstract in data frame so that we can use directly while running code again\n",
    "K1_abstract.to_csv('/Users/piyush/Desktop/dsml_Portfolio/clinical_traits/final_project/output/skipgram-vec-abstract.csv')\n",
    "\n",
    "K1_title = return_embed(skipgram,df,\"Title\")\n",
    "K1_title = pd.DataFrame(K1_title).transpose()  \n",
    "K1_title.to_csv('/Users/piyush/Desktop/dsml_Portfolio/clinical_traits/final_project/output/skipgram-vec-title.csv')\n",
    "\n",
    "### convert to columns vectors using FastText ###\n",
    "#K2_abstract = return_embed(FastText,df,\"Abstract\")\n",
    "#K2_abstract = pd.DataFrame(K1_abstract).transpose()    \n",
    "#K2_abstract.to_csv('../output/FastText-vec-abstract.csv')\n",
    "\n",
    "#K2_title = return_embed(FastText,df,\"Title\")\n",
    "#K2_title = pd.DataFrame(K1_title).transpose()    \n",
    "#K2_title.to_csv('../output/FastText-vec-title.csv')"
   ]
  },
  {
   "cell_type": "code",
   "execution_count": null,
   "metadata": {},
   "outputs": [],
   "source": [
    "K = read_data('/Users/piyush/Desktop/dsml_Portfolio/clinical_traits/final_project/output/skipgram-vec-abstract.csv')   \n",
    "skipgram_vectors=[]                          #transforming dataframe into required array like structure as we did in above step\n",
    "for i in range(df.shape[0]):\n",
    "    skipgram_vectors.append(K[str(i)].values)"
   ]
  },
  {
   "cell_type": "code",
   "execution_count": null,
   "metadata": {},
   "outputs": [],
   "source": [
    "from top_n_searches import TopNrecommendations\n",
    "query = df['Abstract'][69]\n",
    "model_name = 'Skipgram'\n",
    "num_of_results = 5\n",
    "top = TopNrecommendations(query,model_name,num_of_results)"
   ]
  },
  {
   "cell_type": "code",
   "execution_count": null,
   "metadata": {},
   "outputs": [],
   "source": [
    "top.get_top_n_results()\n"
   ]
  },
  {
   "cell_type": "code",
   "execution_count": null,
   "metadata": {},
   "outputs": [],
   "source": [
    "    input_query = preprocessing_input(query)\n",
    "    \n",
    "    input_query_vector=get_mean_vector(word2vec_model,input_query)"
   ]
  },
  {
   "cell_type": "code",
   "execution_count": null,
   "metadata": {},
   "outputs": [],
   "source": [
    "        p=[]                          #transforming dataframe into required array like structure as we did in above step\n",
    "        for i in range(df.shape[0]):\n",
    "            p.append(K[str(i)].values)    \n"
   ]
  },
  {
   "cell_type": "code",
   "execution_count": null,
   "metadata": {},
   "outputs": [],
   "source": [
    "K.shape"
   ]
  },
  {
   "cell_type": "code",
   "execution_count": null,
   "metadata": {},
   "outputs": [],
   "source": [
    "        p=[]                          #transforming dataframe into required array like structure as we did in above step\n",
    "        for i in range(df.shape[0]):\n",
    "            p.append(K[str(i)].values)  "
   ]
  },
  {
   "cell_type": "code",
   "execution_count": null,
   "metadata": {},
   "outputs": [],
   "source": [
    "        df = read_data(\"/Users/piyush/Desktop/dsml_Portfolio/clinical_traits/final_project/input/Dimension-covid.csv\")\n",
    "\n",
    "        word2vec_model = Word2Vec.load('/Users/piyush/Desktop/dsml_Portfolio/clinical_traits/final_project/output/model_Skipgram.bin')\n",
    "        K=pd.read_csv('/Users/piyush/Desktop/dsml_Portfolio/clinical_traits/final_project/output/skipgram-vec-abstract.csv')\n",
    "\n",
    "        input_query = preprocessing_input(query)\n",
    "    \n",
    "        input_query_vector=get_mean_vector(word2vec_model,input_query)"
   ]
  },
  {
   "cell_type": "code",
   "execution_count": null,
   "metadata": {},
   "outputs": [],
   "source": [
    "        p=[]                          #transforming dataframe into required array like structure as we did in above step\n",
    "        for i in range(df.shape[0]):\n",
    "            p.append(K[str(i)].values)    \n",
    "        x=[]        #Converting cosine similarities of overall data set with input queries into LIST\n",
    "        for i in range(len(p)):\n",
    "            x.append(cosine_similarity(input_query_vector.reshape(1, -1),p[i].reshape(1, -1)))\n"
   ]
  },
  {
   "cell_type": "code",
   "execution_count": null,
   "metadata": {},
   "outputs": [],
   "source": [
    "        index_top_n = np.flip(np.argsort(np.array(x).flatten()))[0:num_of_results]\n",
    "        sim_scores = np.array(x).flatten()[index_top_n]"
   ]
  },
  {
   "cell_type": "code",
   "execution_count": null,
   "metadata": {},
   "outputs": [],
   "source": [
    "df.loc[index_top_n, ['Trial ID', 'Title','Abstract','Publication date']]"
   ]
  },
  {
   "cell_type": "code",
   "execution_count": null,
   "metadata": {},
   "outputs": [],
   "source": [
    "df.iloc[index_top_n, [1,2,5,6]]"
   ]
  },
  {
   "cell_type": "code",
   "execution_count": null,
   "metadata": {},
   "outputs": [],
   "source": [
    "from top_n_searches import  TopNrecommendations"
   ]
  },
  {
   "cell_type": "code",
   "execution_count": null,
   "metadata": {},
   "outputs": [],
   "source": [
    "p = TopNrecommendations(query,model_name,num_of_results)"
   ]
  },
  {
   "cell_type": "code",
   "execution_count": null,
   "metadata": {},
   "outputs": [],
   "source": [
    "model_name"
   ]
  },
  {
   "cell_type": "code",
   "execution_count": null,
   "metadata": {},
   "outputs": [],
   "source": [
    "query"
   ]
  },
  {
   "cell_type": "code",
   "execution_count": null,
   "metadata": {},
   "outputs": [],
   "source": [
    "num_of_results"
   ]
  },
  {
   "cell_type": "code",
   "execution_count": null,
   "metadata": {},
   "outputs": [],
   "source": [
    "p.get_top_n_results()"
   ]
  },
  {
   "cell_type": "code",
   "execution_count": null,
   "metadata": {},
   "outputs": [],
   "source": [
    "#defining function to define cosine similarity\n",
    "from numpy import dot\n",
    "from numpy.linalg import norm\n",
    "import gensim\n",
    "from gensim.models import Word2Vec\n",
    "from gensim.models import FastText\n",
    "import pandas as pd\n",
    "from utils import read_data\n",
    "from embeddings import get_mean_vector\n",
    "from preprocessing import preprocessing_input\n",
    "from sklearn.metrics.pairwise import cosine_similarity\n"
   ]
  },
  {
   "cell_type": "code",
   "execution_count": null,
   "metadata": {},
   "outputs": [],
   "source": [
    "from top_n_searches import TopNrecommendations\n",
    "pp = TopNrecommendations(query,model_name,num_of_results)"
   ]
  },
  {
   "cell_type": "code",
   "execution_count": null,
   "metadata": {},
   "outputs": [],
   "source": [
    "query = 'lung'\n",
    "model_name = 'Skipgram'\n",
    "num_of_results = 5"
   ]
  },
  {
   "cell_type": "code",
   "execution_count": null,
   "metadata": {},
   "outputs": [],
   "source": [
    "pp.get_top_n_results()"
   ]
  },
  {
   "cell_type": "code",
   "execution_count": null,
   "metadata": {},
   "outputs": [],
   "source": [
    "        df = read_data(\"/Users/piyush/Desktop/dsml_Portfolio/clinical_traits/final_project/input/Dimension-covid.csv\")\n",
    "\n",
    "        word2vec_model = Word2Vec.load('/Users/piyush/Desktop/dsml_Portfolio/clinical_traits/final_project/output/model_Skipgram.bin')\n",
    "        K=pd.read_csv('/Users/piyush/Desktop/dsml_Portfolio/clinical_traits/final_project/output/skipgram-vec-abstract.csv')\n",
    "\n",
    "        input_query = preprocessing_input(query)\n",
    "    \n",
    "        input_query_vector=get_mean_vector(word2vec_model,input_query)\n",
    "        p=[]                          #transforming dataframe into required array like structure as we did in above step\n",
    "        for i in range(df.shape[0]):\n",
    "            p.append(K[str(i)].values)    \n",
    "        x=[]        #Converting cosine similarities of overall data set with input queries into LIST\n",
    "        for i in range(len(p)):\n",
    "            x.append(cosine_similarity(input_query_vector.reshape(1, -1),p[i].reshape(1, -1)))"
   ]
  },
  {
   "cell_type": "code",
   "execution_count": null,
   "metadata": {},
   "outputs": [],
   "source": [
    "\n",
    "#index_top_n = np.argsort(np.array(x).flatten())\n",
    "index_top_n = np.flip(np.argsort(np.array(x).flatten()))[0:num_of_results]\n",
    "sim_scores = np.array(x).flatten()[index_top_n]"
   ]
  },
  {
   "cell_type": "code",
   "execution_count": null,
   "metadata": {},
   "outputs": [],
   "source": [
    "index_top_n"
   ]
  },
  {
   "cell_type": "code",
   "execution_count": null,
   "metadata": {},
   "outputs": [],
   "source": []
  },
  {
   "cell_type": "code",
   "execution_count": null,
   "metadata": {},
   "outputs": [],
   "source": []
  },
  {
   "cell_type": "code",
   "execution_count": null,
   "metadata": {},
   "outputs": [],
   "source": [
    "import numpy as np"
   ]
  },
  {
   "cell_type": "code",
   "execution_count": null,
   "metadata": {},
   "outputs": [],
   "source": [
    "class TopNrecommendations():\n",
    "    import numpy as np\n",
    "    def __init__(self,query,model_name,num_of_results):\n",
    "        self.query = query\n",
    "        self.model_name = model_name\n",
    "        self.num_of_results = num_of_results\n",
    "\n",
    "    def get_top_n_results(self):\n",
    "        df = read_data(\"/Users/piyush/Desktop/dsml_Portfolio/clinical_traits/final_project/input/Dimension-covid.csv\")\n",
    "\n",
    "        word2vec_model = Word2Vec.load('/Users/piyush/Desktop/dsml_Portfolio/clinical_traits/final_project/output/model_Skipgram.bin')\n",
    "        K=pd.read_csv('/Users/piyush/Desktop/dsml_Portfolio/clinical_traits/final_project/output/skipgram-vec-abstract.csv')\n",
    "\n",
    "        input_query = preprocessing_input(self.query)\n",
    "    \n",
    "        input_query_vector=get_mean_vector(word2vec_model,input_query)\n",
    "        p=[]                          #transforming dataframe into required array like structure as we did in above step\n",
    "        for i in range(df.shape[0]):\n",
    "            p.append(K[str(i)].values)    \n",
    "        x=[]        #Converting cosine similarities of overall data set with input queries into LIST\n",
    "        for i in range(len(p)):\n",
    "            x.append(cosine_similarity(input_query_vector.reshape(1, -1),p[i].reshape(1, -1)))\n",
    "\n",
    " #index_top_n = np.argsort(np.array(x).flatten())\n",
    " #       index_top_n = np.flip(np.argsort(np.array(x).flatten()))[0:self.num_of_results]\n",
    " #       sim_scores = np.array(x).flatten()[index_top_n]\n",
    " #       df = read_data(\"/Users/piyush/Desktop/dsml_Portfolio/clinical_traits/final_project/input/dimensions-covid19-export-2021-09-01-h15-01-02_clinical_trials.csv\")\n",
    "\n",
    "        return df.loc[index_top_n, ['Trial ID', 'Title','Abstract','Publication date']]     #returning dataframe (only id,title,abstract ,publication date)\n"
   ]
  },
  {
   "cell_type": "code",
   "execution_count": 1,
   "metadata": {},
   "outputs": [
    {
     "name": "stderr",
     "output_type": "stream",
     "text": [
      "[nltk_data] Downloading package stopwords to\n",
      "[nltk_data]     /Users/piyush/nltk_data...\n",
      "[nltk_data]   Package stopwords is already up-to-date!\n",
      "[nltk_data] Downloading package wordnet to /Users/piyush/nltk_data...\n",
      "[nltk_data]   Package wordnet is already up-to-date!\n",
      "[nltk_data] Downloading package punkt to /Users/piyush/nltk_data...\n",
      "[nltk_data]   Package punkt is already up-to-date!\n",
      "[nltk_data] Downloading package stopwords to\n",
      "[nltk_data]     /Users/piyush/nltk_data...\n",
      "[nltk_data]   Package stopwords is already up-to-date!\n",
      "[nltk_data] Downloading package wordnet to /Users/piyush/nltk_data...\n",
      "[nltk_data]   Package wordnet is already up-to-date!\n",
      "[nltk_data] Downloading package punkt to /Users/piyush/nltk_data...\n",
      "[nltk_data]   Package punkt is already up-to-date!\n"
     ]
    }
   ],
   "source": [
    "from top_n_searches import TopNrecommendations\n",
    "query = 'lung'\n",
    "pp = TopNrecommendations(query,'Skipgram',5)"
   ]
  },
  {
   "cell_type": "code",
   "execution_count": 2,
   "metadata": {},
   "outputs": [],
   "source": [
    "data,score = pp.get_top_n_results()"
   ]
  },
  {
   "cell_type": "code",
   "execution_count": 3,
   "metadata": {},
   "outputs": [
    {
     "data": {
      "text/html": [
       "<div>\n",
       "<style scoped>\n",
       "    .dataframe tbody tr th:only-of-type {\n",
       "        vertical-align: middle;\n",
       "    }\n",
       "\n",
       "    .dataframe tbody tr th {\n",
       "        vertical-align: top;\n",
       "    }\n",
       "\n",
       "    .dataframe thead th {\n",
       "        text-align: right;\n",
       "    }\n",
       "</style>\n",
       "<table border=\"1\" class=\"dataframe\">\n",
       "  <thead>\n",
       "    <tr style=\"text-align: right;\">\n",
       "      <th></th>\n",
       "      <th>Trial ID</th>\n",
       "      <th>Title</th>\n",
       "      <th>Abstract</th>\n",
       "      <th>Publication date</th>\n",
       "    </tr>\n",
       "  </thead>\n",
       "  <tbody>\n",
       "    <tr>\n",
       "      <th>10319</th>\n",
       "      <td>CHICTR2000030114</td>\n",
       "      <td>Lung ultrasound in the diagnosis, treatment an...</td>\n",
       "      <td>1) lung ultrasound characteristics of pulmonar...</td>\n",
       "      <td>2020-02-24</td>\n",
       "    </tr>\n",
       "    <tr>\n",
       "      <th>8628</th>\n",
       "      <td>DRKS00021585</td>\n",
       "      <td>Lung Ultrasound in Covid-19 Pneumonia</td>\n",
       "      <td>\\n\\nDetailed Description\\nProspective evaluati...</td>\n",
       "      <td>2020-04-24</td>\n",
       "    </tr>\n",
       "    <tr>\n",
       "      <th>7831</th>\n",
       "      <td>2020-001807-18</td>\n",
       "      <td>A Phase 2, Randomized, Double-Blind, Placebo-C...</td>\n",
       "      <td>Acute lung injury associated with COVID-19</td>\n",
       "      <td>2020-10-13</td>\n",
       "    </tr>\n",
       "    <tr>\n",
       "      <th>10124</th>\n",
       "      <td>CHICTR2000030578</td>\n",
       "      <td>Clinical Prediction and Intervention of Pulmon...</td>\n",
       "      <td>1. Establish a cohort of survivors of new coro...</td>\n",
       "      <td>2020-02-01</td>\n",
       "    </tr>\n",
       "    <tr>\n",
       "      <th>4601</th>\n",
       "      <td>CHICTR2000038609</td>\n",
       "      <td>Follow-up Study on Pulmonary Function and Lung...</td>\n",
       "      <td>Follow-up Study on Pulmonary Function and Lung...</td>\n",
       "      <td>2020-05-01</td>\n",
       "    </tr>\n",
       "  </tbody>\n",
       "</table>\n",
       "</div>"
      ],
      "text/plain": [
       "               Trial ID                                              Title  \\\n",
       "10319  CHICTR2000030114  Lung ultrasound in the diagnosis, treatment an...   \n",
       "8628       DRKS00021585              Lung Ultrasound in Covid-19 Pneumonia   \n",
       "7831     2020-001807-18  A Phase 2, Randomized, Double-Blind, Placebo-C...   \n",
       "10124  CHICTR2000030578  Clinical Prediction and Intervention of Pulmon...   \n",
       "4601   CHICTR2000038609  Follow-up Study on Pulmonary Function and Lung...   \n",
       "\n",
       "                                                Abstract Publication date  \n",
       "10319  1) lung ultrasound characteristics of pulmonar...       2020-02-24  \n",
       "8628   \\n\\nDetailed Description\\nProspective evaluati...       2020-04-24  \n",
       "7831          Acute lung injury associated with COVID-19       2020-10-13  \n",
       "10124  1. Establish a cohort of survivors of new coro...       2020-02-01  \n",
       "4601   Follow-up Study on Pulmonary Function and Lung...       2020-05-01  "
      ]
     },
     "execution_count": 3,
     "metadata": {},
     "output_type": "execute_result"
    }
   ],
   "source": [
    "data"
   ]
  },
  {
   "cell_type": "code",
   "execution_count": 1,
   "metadata": {},
   "outputs": [
    {
     "ename": "NameError",
     "evalue": "name 'read_data' is not defined",
     "output_type": "error",
     "traceback": [
      "\u001b[0;31m---------------------------------------------------------------------------\u001b[0m",
      "\u001b[0;31mNameError\u001b[0m                                 Traceback (most recent call last)",
      "Cell \u001b[0;32mIn [1], line 1\u001b[0m\n\u001b[0;32m----> 1\u001b[0m df \u001b[39m=\u001b[39m read_data(\u001b[39m\"\u001b[39m\u001b[39m/Users/piyush/Desktop/dsml_Portfolio/clinical_traits/final_project/input/Dimension-covid.csv\u001b[39m\u001b[39m\"\u001b[39m)\n\u001b[1;32m      2\u001b[0m df1 \u001b[39m=\u001b[39m read_data(\u001b[39m\"\u001b[39m\u001b[39m/Users/piyush/Desktop/dsml_Portfolio/clinical_traits/final_project/input/Dimension-covid.csv\u001b[39m\u001b[39m\"\u001b[39m)  \n\u001b[1;32m      4\u001b[0m \u001b[39m### Pre-processing the data  ###\u001b[39;00m\n",
      "\u001b[0;31mNameError\u001b[0m: name 'read_data' is not defined"
     ]
    }
   ],
   "source": [
    "df = read_data(\"/Users/piyush/Desktop/dsml_Portfolio/clinical_traits/final_project/input/Dimension-covid.csv\")\n",
    "df1 = read_data(\"/Users/piyush/Desktop/dsml_Portfolio/clinical_traits/final_project/input/Dimension-covid.csv\")  \n",
    "\n",
    "### Pre-processing the data  ###\n",
    "abstract_preprocessed  = output_text(df,\"Abstract\")\n",
    "\n",
    "### Train the Skipgram and FastText models ###\n",
    "model = ModelTrain(df,'Abstract', vector_size = 100,window_size=1, min_count=2,sg = 1)\n",
    "skipgram = model.fit()\n",
    "#fasttext = model_train(df,\"Abstract\",\"Fasttext\",vector_size=100, window_size = 2)\n",
    "\n",
    "### Loading our pretrained model ###\n",
    "skipgram = Word2Vec.load('/Users/piyush/Desktop/dsml_Portfolio/clinical_traits/final_project/output/model_Skipgram.bin')\n",
    "#FastText = Word2Vec.load('../output/model_Fasttext.bin')\n",
    "\n",
    "### convert to columns vectors using skipgram ###\n",
    "K1_abstract = return_embed(skipgram,df,\"Abstract\")\n",
    "K1_abstract = pd.DataFrame(K1_abstract).transpose()    # Saving vectors of each abstract in data frame so that we can use directly while running code again\n",
    "K1_abstract.to_csv('/Users/piyush/Desktop/dsml_Portfolio/clinical_traits/final_project/output/skipgram-vec-abstract.csv')\n",
    "\n",
    "K1_title = return_embed(skipgram,df,\"Title\")\n",
    "K1_title = pd.DataFrame(K1_title).transpose()  \n",
    "K1_title.to_csv('/Users/piyush/Desktop/dsml_Portfolio/clinical_traits/final_project/output/skipgram-vec-title.csv')\n"
   ]
  },
  {
   "cell_type": "code",
   "execution_count": 3,
   "metadata": {},
   "outputs": [],
   "source": [
    "\n",
    "from utils import read_data\n",
    "from preprocessing import output_text\n",
    "from training import ModelTrain\n",
    "from embeddings import return_embed\n",
    "from top_n_searches import TopNrecommendations\n",
    "#from top_n_searches import top_n\n",
    "import pandas as pd\n",
    "from gensim.models import Word2Vec\n",
    "\n",
    "### Read the initial dataset ###\n",
    "df = read_data(\"/Users/piyush/Desktop/dsml_Portfolio/clinical_traits/final_project/input/Dimension-covid.csv\")\n",
    "df1 = read_data(\"/Users/piyush/Desktop/dsml_Portfolio/clinical_traits/final_project/input/Dimension-covid.csv\")  \n",
    "\n",
    "### Pre-processing the data  ###\n",
    "abstract_preprocessed  = output_text(df,\"Abstract\")\n",
    "\n",
    "### Train the Skipgram and FastText models ###\n",
    "model = ModelTrain(df,'Abstract', vector_size = 100,window_size=1)\n",
    "skipgram = model.fit()\n",
    "#fasttext = model_train(df,\"Abstract\",\"Fasttext\",vector_size=100, window_size = 2)\n",
    "\n",
    "### Loading our pretrained model ###\n",
    "skipgram = Word2Vec.load('/Users/piyush/Desktop/dsml_Portfolio/clinical_traits/final_project/output/model_Skipgram.bin')\n",
    "#FastText = Word2Vec.load('../output/model_Fasttext.bin')\n",
    "\n",
    "### convert to columns vectors using skipgram ###\n",
    "K1_abstract = return_embed(skipgram,df,\"Abstract\")\n",
    "K1_abstract = pd.DataFrame(K1_abstract).transpose()    # Saving vectors of each abstract in data frame so that we can use directly while running code again\n",
    "K1_abstract.to_csv('/Users/piyush/Desktop/dsml_Portfolio/clinical_traits/final_project/output/skipgram-vec-abstract.csv')\n",
    "\n",
    "K1_title = return_embed(skipgram,df,\"Title\")\n",
    "K1_title = pd.DataFrame(K1_title).transpose()  \n",
    "K1_title.to_csv('/Users/piyush/Desktop/dsml_Portfolio/clinical_traits/final_project/output/skipgram-vec-title.csv')"
   ]
  },
  {
   "cell_type": "code",
   "execution_count": 4,
   "metadata": {},
   "outputs": [],
   "source": [
    "K = read_data('/Users/piyush/Desktop/dsml_Portfolio/clinical_traits/final_project/output/skipgram-vec-abstract.csv')   \n",
    "skipgram_vectors=[]                          #transforming dataframe into required array like structure as we did in above step\n",
    "for i in range(df.shape[0]):\n",
    "    skipgram_vectors.append(K[str(i)].values)"
   ]
  },
  {
   "cell_type": "code",
   "execution_count": 9,
   "metadata": {},
   "outputs": [],
   "source": [
    "query = 'lung failure'\n",
    "model_name = 'Skipgram'\n",
    "num_of_results = 5\n",
    "top = TopNrecommendations(query,model_name,num_of_results)"
   ]
  },
  {
   "cell_type": "code",
   "execution_count": 10,
   "metadata": {},
   "outputs": [],
   "source": [
    "data, score = top.get_top_n_results()"
   ]
  },
  {
   "cell_type": "code",
   "execution_count": 11,
   "metadata": {},
   "outputs": [
    {
     "data": {
      "text/html": [
       "<div>\n",
       "<style scoped>\n",
       "    .dataframe tbody tr th:only-of-type {\n",
       "        vertical-align: middle;\n",
       "    }\n",
       "\n",
       "    .dataframe tbody tr th {\n",
       "        vertical-align: top;\n",
       "    }\n",
       "\n",
       "    .dataframe thead th {\n",
       "        text-align: right;\n",
       "    }\n",
       "</style>\n",
       "<table border=\"1\" class=\"dataframe\">\n",
       "  <thead>\n",
       "    <tr style=\"text-align: right;\">\n",
       "      <th></th>\n",
       "      <th>Trial ID</th>\n",
       "      <th>Title</th>\n",
       "      <th>Abstract</th>\n",
       "      <th>Publication date</th>\n",
       "    </tr>\n",
       "  </thead>\n",
       "  <tbody>\n",
       "    <tr>\n",
       "      <th>4235</th>\n",
       "      <td>NCT04597853</td>\n",
       "      <td>Assessment of Lung Mechanics in SARS-CoV-2/ CO...</td>\n",
       "      <td>This study is meant to assess the lung mechani...</td>\n",
       "      <td>2021-03-01</td>\n",
       "    </tr>\n",
       "    <tr>\n",
       "      <th>548</th>\n",
       "      <td>2021-000988-68</td>\n",
       "      <td>Immune response after covid-19 vaccination in ...</td>\n",
       "      <td>Renal failure stage 4 and 5.</td>\n",
       "      <td>2021-03-31</td>\n",
       "    </tr>\n",
       "    <tr>\n",
       "      <th>9785</th>\n",
       "      <td>2020-001236-10</td>\n",
       "      <td>COUNTER-COVID - Oral imatinib to prevent pulmo...</td>\n",
       "      <td>Covid19 is characterized by hypoxemic respirat...</td>\n",
       "      <td>2020-12-10</td>\n",
       "    </tr>\n",
       "    <tr>\n",
       "      <th>10124</th>\n",
       "      <td>CHICTR2000030578</td>\n",
       "      <td>Clinical Prediction and Intervention of Pulmon...</td>\n",
       "      <td>1. Establish a cohort of survivors of new coro...</td>\n",
       "      <td>2020-02-01</td>\n",
       "    </tr>\n",
       "    <tr>\n",
       "      <th>7831</th>\n",
       "      <td>2020-001807-18</td>\n",
       "      <td>A Phase 2, Randomized, Double-Blind, Placebo-C...</td>\n",
       "      <td>Acute lung injury associated with COVID-19</td>\n",
       "      <td>2020-10-13</td>\n",
       "    </tr>\n",
       "  </tbody>\n",
       "</table>\n",
       "</div>"
      ],
      "text/plain": [
       "               Trial ID                                              Title  \\\n",
       "4235        NCT04597853  Assessment of Lung Mechanics in SARS-CoV-2/ CO...   \n",
       "548      2021-000988-68  Immune response after covid-19 vaccination in ...   \n",
       "9785     2020-001236-10  COUNTER-COVID - Oral imatinib to prevent pulmo...   \n",
       "10124  CHICTR2000030578  Clinical Prediction and Intervention of Pulmon...   \n",
       "7831     2020-001807-18  A Phase 2, Randomized, Double-Blind, Placebo-C...   \n",
       "\n",
       "                                                Abstract Publication date  \n",
       "4235   This study is meant to assess the lung mechani...       2021-03-01  \n",
       "548                         Renal failure stage 4 and 5.       2021-03-31  \n",
       "9785   Covid19 is characterized by hypoxemic respirat...       2020-12-10  \n",
       "10124  1. Establish a cohort of survivors of new coro...       2020-02-01  \n",
       "7831          Acute lung injury associated with COVID-19       2020-10-13  "
      ]
     },
     "execution_count": 11,
     "metadata": {},
     "output_type": "execute_result"
    }
   ],
   "source": [
    "data"
   ]
  },
  {
   "cell_type": "code",
   "execution_count": 12,
   "metadata": {},
   "outputs": [
    {
     "data": {
      "text/plain": [
       "array([0.803692  , 0.80120232, 0.79294186, 0.78724893, 0.78293141])"
      ]
     },
     "execution_count": 12,
     "metadata": {},
     "output_type": "execute_result"
    }
   ],
   "source": [
    "score"
   ]
  },
  {
   "cell_type": "code",
   "execution_count": null,
   "metadata": {},
   "outputs": [],
   "source": []
  }
 ],
 "metadata": {
  "kernelspec": {
   "display_name": "Python 3.9.12 ('final_project': venv)",
   "language": "python",
   "name": "python3"
  },
  "language_info": {
   "codemirror_mode": {
    "name": "ipython",
    "version": 3
   },
   "file_extension": ".py",
   "mimetype": "text/x-python",
   "name": "python",
   "nbconvert_exporter": "python",
   "pygments_lexer": "ipython3",
   "version": "3.9.12"
  },
  "orig_nbformat": 4,
  "vscode": {
   "interpreter": {
    "hash": "2f1c8b589d0c92c4691921dac80cb6f4faf031fe23ac23f541ae4960bebc3e77"
   }
  }
 },
 "nbformat": 4,
 "nbformat_minor": 2
}
